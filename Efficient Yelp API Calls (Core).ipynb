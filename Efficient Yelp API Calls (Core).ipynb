{
 "cells": [
  {
   "cell_type": "markdown",
   "id": "4a79208d",
   "metadata": {},
   "source": [
    "## Efficient Yelp API Calls (Core)\n",
    "- Brian Lafferty\n",
    "- 7.26.2022"
   ]
  },
  {
   "cell_type": "markdown",
   "id": "e94fa1a7",
   "metadata": {},
   "source": [
    "### Loading Libraries"
   ]
  },
  {
   "cell_type": "code",
   "execution_count": 9,
   "id": "7a517aff",
   "metadata": {},
   "outputs": [],
   "source": [
    "# Imports and libraries\n",
    "import numpy as np\n",
    "import pandas as pd\n",
    "import os, json, math, time\n",
    "from yelpapi import YelpAPI\n",
    "from tqdm.notebook import tqdm_notebook"
   ]
  },
  {
   "cell_type": "markdown",
   "id": "c51464b0",
   "metadata": {},
   "source": [
    "### loading and saving credentials for Yelp"
   ]
  },
  {
   "cell_type": "code",
   "execution_count": 10,
   "id": "04c563ca",
   "metadata": {},
   "outputs": [],
   "source": [
    "# loading credentials from secret folder\n",
    "with open('/Users/laffe/.secret/yelp_api.json') as f:\n",
    "    login = json.load(f)\n",
    "# instantiate YelpAPI variable and give it my key\n",
    "yelp_api = YelpAPI(login['api-key'], timeout_s=5.0)"
   ]
  },
  {
   "cell_type": "markdown",
   "id": "9821b68d",
   "metadata": {},
   "source": [
    "### define search area and terms"
   ]
  },
  {
   "cell_type": "code",
   "execution_count": 11,
   "id": "f5dd913d",
   "metadata": {},
   "outputs": [],
   "source": [
    "# setting the variables to the parameters of the API\n",
    "LOCATION = 'Whispering Pines, NC, 28327'\n",
    "TERM = 'Pizza'"
   ]
  },
  {
   "cell_type": "markdown",
   "id": "92b82381",
   "metadata": {},
   "source": [
    "### creating a file and folder to store search"
   ]
  },
  {
   "cell_type": "code",
   "execution_count": 12,
   "id": "a875f0cd",
   "metadata": {},
   "outputs": [],
   "source": [
    "# creating a folder to save the data in\n",
    "folder_name = \"Data/\"\n",
    "os.makedirs(folder_name, exist_ok = True)"
   ]
  },
  {
   "cell_type": "code",
   "execution_count": 13,
   "id": "f69e1e63",
   "metadata": {},
   "outputs": [],
   "source": [
    "# using the new folder to create file path, with the search terms as the name\n",
    "JSON_FILE = folder_name+f\"{LOCATION.split(',')[0]}-{TERM}.json\""
   ]
  },
  {
   "cell_type": "code",
   "execution_count": 14,
   "id": "161c9109",
   "metadata": {},
   "outputs": [
    {
     "name": "stdout",
     "output_type": "stream",
     "text": [
      "This Data/Whispering Pines-Pizza.json already exists.\n"
     ]
    }
   ],
   "source": [
    "# check to see if JSON_FILE exists already\n",
    "file_exists = os.path.isfile(JSON_FILE)\n",
    "# if it does oot exist\n",
    "if file_exists == False:\n",
    "    # create any needed folders\n",
    "    # get the folder name only\n",
    "    folder = os.path.dirname(JSON_FILE)\n",
    "    # if JSON_FILE included a folder:\n",
    "    if len(folder)>0:\n",
    "        # create the folder\n",
    "        os.makedirs(folder, exist_ok = True)\n",
    "        \n",
    "    # tell users and save empty list\n",
    "    print(f\"This {JSON_FILE} was not found! Saving empty list to file.\")\n",
    "    \n",
    "    # save the empty file\n",
    "    with open(JSON_FILE, 'w') as f:\n",
    "        json.dump([],f)\n",
    "# if it exits, inform user\n",
    "else:\n",
    "    print(f\"This {JSON_FILE} already exists.\")"
   ]
  },
  {
   "cell_type": "code",
   "execution_count": 16,
   "id": "34faa1fb",
   "metadata": {},
   "outputs": [
    {
     "name": "stdout",
     "output_type": "stream",
     "text": [
      "- 0 previous results found.\n"
     ]
    }
   ],
   "source": [
    "# loading the previous file and finding the length, this will be used for the offset\n",
    "with open(JSON_FILE, 'r') as f:\n",
    "    previous_results = json.load(f)\n",
    "\n",
    "# set offset based on previous results\n",
    "num_results = len(previous_results)\n",
    "print(f'- {num_results} previous results found.')"
   ]
  },
  {
   "cell_type": "code",
   "execution_count": 17,
   "id": "87dfe16a",
   "metadata": {},
   "outputs": [],
   "source": [
    "# using yelp_api variables and search_query method to perform the API call\n",
    "results = yelp_api.search_query(location = LOCATION, term = TERM, offset = num_results)\n"
   ]
  },
  {
   "cell_type": "code",
   "execution_count": 18,
   "id": "caa6d42c",
   "metadata": {},
   "outputs": [
    {
     "name": "stdout",
     "output_type": "stream",
     "text": [
      "The total number of results from the search was 32\n"
     ]
    }
   ],
   "source": [
    "# how many total results were found\n",
    "total_results = results['total']\n",
    "print(f'The total number of results from the search was {total_results}')\n",
    "# how many businesses were returned\n",
    "results_per_page = len(results['businesses'])\n"
   ]
  },
  {
   "cell_type": "code",
   "execution_count": 19,
   "id": "19813b15",
   "metadata": {},
   "outputs": [
    {
     "data": {
      "text/plain": [
       "2"
      ]
     },
     "execution_count": 19,
     "metadata": {},
     "output_type": "execute_result"
    }
   ],
   "source": [
    "# use math.ceil to round up for the total number of pages of results\n",
    "num_pages = math.ceil((results['total']-num_results)/ results_per_page)\n",
    "num_pages"
   ]
  },
  {
   "cell_type": "code",
   "execution_count": 20,
   "id": "51f7ae37",
   "metadata": {},
   "outputs": [],
   "source": [
    "# adding the previous search to the save file using extend\n",
    "previous_results.extend(results['businesses'])\n",
    "with open(JSON_FILE, 'w') as f:\n",
    "    json.dump(previous_results, f)"
   ]
  },
  {
   "cell_type": "code",
   "execution_count": 21,
   "id": "741ee813",
   "metadata": {},
   "outputs": [
    {
     "data": {
      "application/vnd.jupyter.widget-view+json": {
       "model_id": "491341ba2d4d49e4aa1efc60ea7cf244",
       "version_major": 2,
       "version_minor": 0
      },
      "text/plain": [
       "  0%|          | 0/2 [00:00<?, ?it/s]"
      ]
     },
     "metadata": {},
     "output_type": "display_data"
    }
   ],
   "source": [
    "# creating a for loop to run the needed api calls to get the full list\n",
    "# also using the tqdm notebook to practice making a status bar\n",
    "for i in tqdm_notebook(range(1, num_pages + 1)):\n",
    "    time.sleep(.2)\n",
    "    # read in results in progress file and check the length\n",
    "    with open(JSON_FILE, 'r') as f:\n",
    "        previous_results = json.load(f)\n",
    "    # save the number of results for use as the offset\n",
    "    num_results = len(previous_results)\n",
    "    # using number of results as the offset\n",
    "    results = yelp_api.search_query(location = LOCATION, term = TERM, offset = num_results)\n",
    "    \n",
    "    # append new results and save eh file\n",
    "    previous_results.extend(results['businesses'])\n",
    "    \n",
    "    # display(previous_results)\n",
    "    with open(JSON_FILE, 'w') as f:\n",
    "        json.dump(previous_results, f)"
   ]
  },
  {
   "cell_type": "code",
   "execution_count": 22,
   "id": "ddae0f39",
   "metadata": {},
   "outputs": [
    {
     "data": {
      "text/html": [
       "<div>\n",
       "<style scoped>\n",
       "    .dataframe tbody tr th:only-of-type {\n",
       "        vertical-align: middle;\n",
       "    }\n",
       "\n",
       "    .dataframe tbody tr th {\n",
       "        vertical-align: top;\n",
       "    }\n",
       "\n",
       "    .dataframe thead th {\n",
       "        text-align: right;\n",
       "    }\n",
       "</style>\n",
       "<table border=\"1\" class=\"dataframe\">\n",
       "  <thead>\n",
       "    <tr style=\"text-align: right;\">\n",
       "      <th></th>\n",
       "      <th>id</th>\n",
       "      <th>alias</th>\n",
       "      <th>name</th>\n",
       "      <th>image_url</th>\n",
       "      <th>is_closed</th>\n",
       "      <th>url</th>\n",
       "      <th>review_count</th>\n",
       "      <th>categories</th>\n",
       "      <th>rating</th>\n",
       "      <th>coordinates</th>\n",
       "      <th>transactions</th>\n",
       "      <th>price</th>\n",
       "      <th>location</th>\n",
       "      <th>phone</th>\n",
       "      <th>display_phone</th>\n",
       "      <th>distance</th>\n",
       "    </tr>\n",
       "  </thead>\n",
       "  <tbody>\n",
       "    <tr>\n",
       "      <th>0</th>\n",
       "      <td>dyRxi0pGj9A4HXLodN3kDg</td>\n",
       "      <td>whispering-pies-carthage</td>\n",
       "      <td>Whispering Pies</td>\n",
       "      <td>https://s3-media4.fl.yelpcdn.com/bphoto/N2t7BX...</td>\n",
       "      <td>False</td>\n",
       "      <td>https://www.yelp.com/biz/whispering-pies-carth...</td>\n",
       "      <td>52</td>\n",
       "      <td>[{'alias': 'pizza', 'title': 'Pizza'}, {'alias...</td>\n",
       "      <td>4.5</td>\n",
       "      <td>{'latitude': 35.2285534977859, 'longitude': -7...</td>\n",
       "      <td>[delivery]</td>\n",
       "      <td>$$</td>\n",
       "      <td>{'address1': '334 Mill Creek Rd', 'address2': ...</td>\n",
       "      <td>+19107252255</td>\n",
       "      <td>(910) 725-2255</td>\n",
       "      <td>3094.257397</td>\n",
       "    </tr>\n",
       "    <tr>\n",
       "      <th>1</th>\n",
       "      <td>mTzEyO8SlpWjEeFsHGUBzA</td>\n",
       "      <td>pinehurst-pizza-pinehurst</td>\n",
       "      <td>Pinehurst Pizza</td>\n",
       "      <td>https://s3-media1.fl.yelpcdn.com/bphoto/B9xBHQ...</td>\n",
       "      <td>False</td>\n",
       "      <td>https://www.yelp.com/biz/pinehurst-pizza-pineh...</td>\n",
       "      <td>72</td>\n",
       "      <td>[{'alias': 'pizza', 'title': 'Pizza'}, {'alias...</td>\n",
       "      <td>4.5</td>\n",
       "      <td>{'latitude': 35.2007963174076, 'longitude': -7...</td>\n",
       "      <td>[delivery]</td>\n",
       "      <td>$$</td>\n",
       "      <td>{'address1': '15 Mc Intyre Rd', 'address2': ''...</td>\n",
       "      <td>+19102550088</td>\n",
       "      <td>(910) 255-0088</td>\n",
       "      <td>9864.807167</td>\n",
       "    </tr>\n",
       "    <tr>\n",
       "      <th>2</th>\n",
       "      <td>9LEunCMhTr6l0ksl-2_7DA</td>\n",
       "      <td>filly-and-colts-whispering-pines</td>\n",
       "      <td>Filly &amp; Colts</td>\n",
       "      <td>https://s3-media3.fl.yelpcdn.com/bphoto/zkpnqR...</td>\n",
       "      <td>False</td>\n",
       "      <td>https://www.yelp.com/biz/filly-and-colts-whisp...</td>\n",
       "      <td>16</td>\n",
       "      <td>[{'alias': 'tradamerican', 'title': 'American ...</td>\n",
       "      <td>4.5</td>\n",
       "      <td>{'latitude': 35.23833, 'longitude': -79.37308}</td>\n",
       "      <td>[pickup, delivery]</td>\n",
       "      <td>$$</td>\n",
       "      <td>{'address1': '26 Sandpiper Dr', 'address2': No...</td>\n",
       "      <td>+19106887125</td>\n",
       "      <td>(910) 688-7125</td>\n",
       "      <td>1786.153990</td>\n",
       "    </tr>\n",
       "    <tr>\n",
       "      <th>3</th>\n",
       "      <td>63Ry46VCS7TEFI4sRWMA-Q</td>\n",
       "      <td>the-block-southern-pines</td>\n",
       "      <td>The Block</td>\n",
       "      <td>https://s3-media3.fl.yelpcdn.com/bphoto/KSi0yL...</td>\n",
       "      <td>False</td>\n",
       "      <td>https://www.yelp.com/biz/the-block-southern-pi...</td>\n",
       "      <td>22</td>\n",
       "      <td>[{'alias': 'vietnamese', 'title': 'Vietnamese'...</td>\n",
       "      <td>4.0</td>\n",
       "      <td>{'latitude': 35.17571, 'longitude': -79.39411}</td>\n",
       "      <td>[]</td>\n",
       "      <td>NaN</td>\n",
       "      <td>{'address1': '290 W Pennsylvania Ave', 'addres...</td>\n",
       "      <td>+19107257024</td>\n",
       "      <td>(910) 725-7024</td>\n",
       "      <td>8643.137406</td>\n",
       "    </tr>\n",
       "    <tr>\n",
       "      <th>4</th>\n",
       "      <td>p9wieO9ZNd4GgGn8hiwEbA</td>\n",
       "      <td>valentis-vass-2</td>\n",
       "      <td>Valenti's</td>\n",
       "      <td>https://s3-media2.fl.yelpcdn.com/bphoto/bscbNU...</td>\n",
       "      <td>False</td>\n",
       "      <td>https://www.yelp.com/biz/valentis-vass-2?adjus...</td>\n",
       "      <td>77</td>\n",
       "      <td>[{'alias': 'italian', 'title': 'Italian'}, {'a...</td>\n",
       "      <td>4.0</td>\n",
       "      <td>{'latitude': 35.24920324906586, 'longitude': -...</td>\n",
       "      <td>[delivery]</td>\n",
       "      <td>$$</td>\n",
       "      <td>{'address1': '3781 US Hwy 1', 'address2': '', ...</td>\n",
       "      <td>+19102451105</td>\n",
       "      <td>(910) 245-1105</td>\n",
       "      <td>8194.233721</td>\n",
       "    </tr>\n",
       "  </tbody>\n",
       "</table>\n",
       "</div>"
      ],
      "text/plain": [
       "                       id                             alias             name  \\\n",
       "0  dyRxi0pGj9A4HXLodN3kDg          whispering-pies-carthage  Whispering Pies   \n",
       "1  mTzEyO8SlpWjEeFsHGUBzA         pinehurst-pizza-pinehurst  Pinehurst Pizza   \n",
       "2  9LEunCMhTr6l0ksl-2_7DA  filly-and-colts-whispering-pines    Filly & Colts   \n",
       "3  63Ry46VCS7TEFI4sRWMA-Q          the-block-southern-pines        The Block   \n",
       "4  p9wieO9ZNd4GgGn8hiwEbA                   valentis-vass-2        Valenti's   \n",
       "\n",
       "                                           image_url  is_closed  \\\n",
       "0  https://s3-media4.fl.yelpcdn.com/bphoto/N2t7BX...      False   \n",
       "1  https://s3-media1.fl.yelpcdn.com/bphoto/B9xBHQ...      False   \n",
       "2  https://s3-media3.fl.yelpcdn.com/bphoto/zkpnqR...      False   \n",
       "3  https://s3-media3.fl.yelpcdn.com/bphoto/KSi0yL...      False   \n",
       "4  https://s3-media2.fl.yelpcdn.com/bphoto/bscbNU...      False   \n",
       "\n",
       "                                                 url  review_count  \\\n",
       "0  https://www.yelp.com/biz/whispering-pies-carth...            52   \n",
       "1  https://www.yelp.com/biz/pinehurst-pizza-pineh...            72   \n",
       "2  https://www.yelp.com/biz/filly-and-colts-whisp...            16   \n",
       "3  https://www.yelp.com/biz/the-block-southern-pi...            22   \n",
       "4  https://www.yelp.com/biz/valentis-vass-2?adjus...            77   \n",
       "\n",
       "                                          categories  rating  \\\n",
       "0  [{'alias': 'pizza', 'title': 'Pizza'}, {'alias...     4.5   \n",
       "1  [{'alias': 'pizza', 'title': 'Pizza'}, {'alias...     4.5   \n",
       "2  [{'alias': 'tradamerican', 'title': 'American ...     4.5   \n",
       "3  [{'alias': 'vietnamese', 'title': 'Vietnamese'...     4.0   \n",
       "4  [{'alias': 'italian', 'title': 'Italian'}, {'a...     4.0   \n",
       "\n",
       "                                         coordinates        transactions  \\\n",
       "0  {'latitude': 35.2285534977859, 'longitude': -7...          [delivery]   \n",
       "1  {'latitude': 35.2007963174076, 'longitude': -7...          [delivery]   \n",
       "2     {'latitude': 35.23833, 'longitude': -79.37308}  [pickup, delivery]   \n",
       "3     {'latitude': 35.17571, 'longitude': -79.39411}                  []   \n",
       "4  {'latitude': 35.24920324906586, 'longitude': -...          [delivery]   \n",
       "\n",
       "  price                                           location         phone  \\\n",
       "0    $$  {'address1': '334 Mill Creek Rd', 'address2': ...  +19107252255   \n",
       "1    $$  {'address1': '15 Mc Intyre Rd', 'address2': ''...  +19102550088   \n",
       "2    $$  {'address1': '26 Sandpiper Dr', 'address2': No...  +19106887125   \n",
       "3   NaN  {'address1': '290 W Pennsylvania Ave', 'addres...  +19107257024   \n",
       "4    $$  {'address1': '3781 US Hwy 1', 'address2': '', ...  +19102451105   \n",
       "\n",
       "    display_phone     distance  \n",
       "0  (910) 725-2255  3094.257397  \n",
       "1  (910) 255-0088  9864.807167  \n",
       "2  (910) 688-7125  1786.153990  \n",
       "3  (910) 725-7024  8643.137406  \n",
       "4  (910) 245-1105  8194.233721  "
      ]
     },
     "execution_count": 22,
     "metadata": {},
     "output_type": "execute_result"
    }
   ],
   "source": [
    "# converting the results from .json to a dataframe\n",
    "pizza_df = pd.read_json(JSON_FILE)\n",
    "pizza_df.head()"
   ]
  },
  {
   "cell_type": "code",
   "execution_count": null,
   "id": "75143e66",
   "metadata": {},
   "outputs": [],
   "source": []
  }
 ],
 "metadata": {
  "kernelspec": {
   "display_name": "Python (dojo-env)",
   "language": "python",
   "name": "dojo-env"
  },
  "language_info": {
   "codemirror_mode": {
    "name": "ipython",
    "version": 3
   },
   "file_extension": ".py",
   "mimetype": "text/x-python",
   "name": "python",
   "nbconvert_exporter": "python",
   "pygments_lexer": "ipython3",
   "version": "3.8.13"
  },
  "toc": {
   "base_numbering": 1,
   "nav_menu": {},
   "number_sections": true,
   "sideBar": true,
   "skip_h1_title": false,
   "title_cell": "Table of Contents",
   "title_sidebar": "Contents",
   "toc_cell": false,
   "toc_position": {},
   "toc_section_display": true,
   "toc_window_display": false
  }
 },
 "nbformat": 4,
 "nbformat_minor": 5
}
