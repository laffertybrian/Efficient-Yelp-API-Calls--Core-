{
 "cells": [
  {
   "cell_type": "markdown",
   "id": "4a79208d",
   "metadata": {},
   "source": [
    "## Efficient Yelp API Calls (Core)\n",
    "- Brian Lafferty\n",
    "- 7.26.2022"
   ]
  },
  {
   "cell_type": "markdown",
   "id": "e94fa1a7",
   "metadata": {},
   "source": [
    "### Loading Libraries"
   ]
  },
  {
   "cell_type": "code",
   "execution_count": 23,
   "id": "7a517aff",
   "metadata": {},
   "outputs": [],
   "source": [
    "# Imports and libraries\n",
    "import numpy as np\n",
    "import pandas as pd\n",
    "import os, json, math, time\n",
    "from yelpapi import YelpAPI\n",
    "from tqdm.notebook import tqdm_notebook"
   ]
  },
  {
   "cell_type": "markdown",
   "id": "c51464b0",
   "metadata": {},
   "source": [
    "### loading and saving credentials for Yelp"
   ]
  },
  {
   "cell_type": "code",
   "execution_count": 24,
   "id": "04c563ca",
   "metadata": {},
   "outputs": [],
   "source": [
    "# loading credentials from secret folder\n",
    "with open('/Users/laffe/.secret/yelp_api.json') as f:\n",
    "    login = json.load(f)\n",
    "# instantiate YelpAPI variable and give it my key\n",
    "yelp_api = YelpAPI(login['api-key'], timeout_s=5.0)"
   ]
  },
  {
   "cell_type": "markdown",
   "id": "9821b68d",
   "metadata": {},
   "source": [
    "### define search area and terms"
   ]
  },
  {
   "cell_type": "code",
   "execution_count": 25,
   "id": "f5dd913d",
   "metadata": {},
   "outputs": [],
   "source": [
    "# setting the variables to the parameters of the API\n",
    "\n",
    "# search #1\n",
    "#LOCATION = 'Whispering Pines, NC, 28327'\n",
    "#TERM = 'Pizza'\n",
    "\n",
    "# search #2\n",
    "LOCATION = 'Apex, NC, 27502'\n",
    "TERM = 'Italian'"
   ]
  },
  {
   "cell_type": "markdown",
   "id": "92b82381",
   "metadata": {},
   "source": [
    "### creating a file and folder to store search"
   ]
  },
  {
   "cell_type": "code",
   "execution_count": 26,
   "id": "a875f0cd",
   "metadata": {},
   "outputs": [],
   "source": [
    "# creating a folder to save the data in\n",
    "folder_name = \"Data/\"\n",
    "os.makedirs(folder_name, exist_ok = True)"
   ]
  },
  {
   "cell_type": "code",
   "execution_count": 27,
   "id": "f69e1e63",
   "metadata": {},
   "outputs": [],
   "source": [
    "# using the new folder to create file path, with the search terms as the name\n",
    "JSON_FILE = folder_name+f\"{LOCATION.split(',')[0]}-{TERM}.json\""
   ]
  },
  {
   "cell_type": "code",
   "execution_count": 28,
   "id": "161c9109",
   "metadata": {},
   "outputs": [
    {
     "name": "stdout",
     "output_type": "stream",
     "text": [
      "This Data/Apex-Italian.json was not found! Saving empty list to file.\n"
     ]
    }
   ],
   "source": [
    "# check to see if JSON_FILE exists already\n",
    "file_exists = os.path.isfile(JSON_FILE)\n",
    "# if it does not exist\n",
    "if file_exists == False:\n",
    "    # create any needed folders\n",
    "    # get the folder name only\n",
    "    folder = os.path.dirname(JSON_FILE)\n",
    "    # if JSON_FILE included a folder:\n",
    "    if len(folder)>0:\n",
    "        # create the folder\n",
    "        os.makedirs(folder, exist_ok = True)\n",
    "        \n",
    "    # tell users and save empty list\n",
    "    print(f\"This {JSON_FILE} was not found! Saving empty list to file.\")\n",
    "    \n",
    "    # save the empty file\n",
    "    with open(JSON_FILE, 'w') as f:\n",
    "        json.dump([],f)\n",
    "# if it exits, inform user\n",
    "else:\n",
    "    print(f\"This {JSON_FILE} already exists.\")"
   ]
  },
  {
   "cell_type": "code",
   "execution_count": 29,
   "id": "34faa1fb",
   "metadata": {},
   "outputs": [
    {
     "name": "stdout",
     "output_type": "stream",
     "text": [
      "- 0 previous results found.\n"
     ]
    }
   ],
   "source": [
    "# loading the previous file and finding the length, this will be used for the offset\n",
    "with open(JSON_FILE, 'r') as f:\n",
    "    previous_results = json.load(f)\n",
    "\n",
    "# set offset based on previous results\n",
    "num_results = len(previous_results)\n",
    "print(f'- {num_results} previous results found.')"
   ]
  },
  {
   "cell_type": "code",
   "execution_count": 30,
   "id": "87dfe16a",
   "metadata": {},
   "outputs": [],
   "source": [
    "# using yelp_api variables and search_query method to perform the API call\n",
    "results = yelp_api.search_query(location = LOCATION, term = TERM, offset = num_results)\n"
   ]
  },
  {
   "cell_type": "code",
   "execution_count": 31,
   "id": "caa6d42c",
   "metadata": {},
   "outputs": [
    {
     "name": "stdout",
     "output_type": "stream",
     "text": [
      "The total number of results from the search was 630\n"
     ]
    }
   ],
   "source": [
    "# how many total results were found\n",
    "total_results = results['total']\n",
    "print(f'The total number of results from the search was {total_results}')\n",
    "# how many businesses were returned\n",
    "results_per_page = len(results['businesses'])\n"
   ]
  },
  {
   "cell_type": "code",
   "execution_count": 32,
   "id": "19813b15",
   "metadata": {},
   "outputs": [
    {
     "data": {
      "text/plain": [
       "32"
      ]
     },
     "execution_count": 32,
     "metadata": {},
     "output_type": "execute_result"
    }
   ],
   "source": [
    "# use math.ceil to round up for the total number of pages of results\n",
    "num_pages = math.ceil((results['total']-num_results)/ results_per_page)\n",
    "num_pages"
   ]
  },
  {
   "cell_type": "code",
   "execution_count": 33,
   "id": "51f7ae37",
   "metadata": {},
   "outputs": [],
   "source": [
    "# adding the previous search to the save file using extend\n",
    "previous_results.extend(results['businesses'])\n",
    "with open(JSON_FILE, 'w') as f:\n",
    "    json.dump(previous_results, f)"
   ]
  },
  {
   "cell_type": "code",
   "execution_count": 34,
   "id": "741ee813",
   "metadata": {},
   "outputs": [
    {
     "data": {
      "application/vnd.jupyter.widget-view+json": {
       "model_id": "a31986b3f4424e1a8748bf2519c53f68",
       "version_major": 2,
       "version_minor": 0
      },
      "text/plain": [
       "  0%|          | 0/32 [00:00<?, ?it/s]"
      ]
     },
     "metadata": {},
     "output_type": "display_data"
    }
   ],
   "source": [
    "# creating a for loop to run the needed api calls to get the full list\n",
    "# also using the tqdm notebook to practice making a status bar\n",
    "for i in tqdm_notebook(range(1, num_pages + 1)):\n",
    "    time.sleep(.2)\n",
    "    # read in results in progress file and check the length\n",
    "    with open(JSON_FILE, 'r') as f:\n",
    "        previous_results = json.load(f)\n",
    "    # save the number of results for use as the offset\n",
    "    num_results = len(previous_results)\n",
    "    # using number of results as the offset\n",
    "    results = yelp_api.search_query(location = LOCATION, term = TERM, offset = num_results)\n",
    "    \n",
    "    # append new results and save eh file\n",
    "    previous_results.extend(results['businesses'])\n",
    "    \n",
    "    # display(previous_results)\n",
    "    with open(JSON_FILE, 'w') as f:\n",
    "        json.dump(previous_results, f)"
   ]
  },
  {
   "cell_type": "code",
   "execution_count": 36,
   "id": "ddae0f39",
   "metadata": {
    "scrolled": true
   },
   "outputs": [
    {
     "data": {
      "text/html": [
       "<div>\n",
       "<style scoped>\n",
       "    .dataframe tbody tr th:only-of-type {\n",
       "        vertical-align: middle;\n",
       "    }\n",
       "\n",
       "    .dataframe tbody tr th {\n",
       "        vertical-align: top;\n",
       "    }\n",
       "\n",
       "    .dataframe thead th {\n",
       "        text-align: right;\n",
       "    }\n",
       "</style>\n",
       "<table border=\"1\" class=\"dataframe\">\n",
       "  <thead>\n",
       "    <tr style=\"text-align: right;\">\n",
       "      <th></th>\n",
       "      <th>id</th>\n",
       "      <th>alias</th>\n",
       "      <th>name</th>\n",
       "      <th>image_url</th>\n",
       "      <th>is_closed</th>\n",
       "      <th>url</th>\n",
       "      <th>review_count</th>\n",
       "      <th>categories</th>\n",
       "      <th>rating</th>\n",
       "      <th>coordinates</th>\n",
       "      <th>transactions</th>\n",
       "      <th>price</th>\n",
       "      <th>location</th>\n",
       "      <th>phone</th>\n",
       "      <th>display_phone</th>\n",
       "      <th>distance</th>\n",
       "    </tr>\n",
       "  </thead>\n",
       "  <tbody>\n",
       "    <tr>\n",
       "      <th>0</th>\n",
       "      <td>oawiDpF6mCdTML91aiR40w</td>\n",
       "      <td>tarantini-italian-restaurant-chapel-hill</td>\n",
       "      <td>Tarantini Italian Restaurant</td>\n",
       "      <td>https://s3-media3.fl.yelpcdn.com/bphoto/hIBw5n...</td>\n",
       "      <td>False</td>\n",
       "      <td>https://www.yelp.com/biz/tarantini-italian-res...</td>\n",
       "      <td>233</td>\n",
       "      <td>[{'alias': 'italian', 'title': 'Italian'}, {'a...</td>\n",
       "      <td>4.5</td>\n",
       "      <td>{'latitude': 35.854042, 'longitude': -79.024952}</td>\n",
       "      <td>[restaurant_reservation, delivery]</td>\n",
       "      <td>$$</td>\n",
       "      <td>{'address1': '50160 Governors Dr', 'address2':...</td>\n",
       "      <td>+19199424240</td>\n",
       "      <td>(919) 942-4240</td>\n",
       "      <td>18405.149641</td>\n",
       "    </tr>\n",
       "    <tr>\n",
       "      <th>1</th>\n",
       "      <td>LjvHGYAC113ZGUs0mue43w</td>\n",
       "      <td>daniels-restaurant-apex</td>\n",
       "      <td>Daniel's Restaurant</td>\n",
       "      <td>https://s3-media2.fl.yelpcdn.com/bphoto/fl9meJ...</td>\n",
       "      <td>False</td>\n",
       "      <td>https://www.yelp.com/biz/daniels-restaurant-ap...</td>\n",
       "      <td>496</td>\n",
       "      <td>[{'alias': 'italian', 'title': 'Italian'}]</td>\n",
       "      <td>4.0</td>\n",
       "      <td>{'latitude': 35.75246, 'longitude': -78.87659}</td>\n",
       "      <td>[]</td>\n",
       "      <td>$$</td>\n",
       "      <td>{'address1': '1430 W Williams St', 'address2':...</td>\n",
       "      <td>+19193031006</td>\n",
       "      <td>(919) 303-1006</td>\n",
       "      <td>5585.960919</td>\n",
       "    </tr>\n",
       "    <tr>\n",
       "      <th>2</th>\n",
       "      <td>40W1_4-Bu-RlZWRRUbQt6w</td>\n",
       "      <td>mamma-mia-italian-bistro-apex</td>\n",
       "      <td>Mamma Mia Italian Bistro</td>\n",
       "      <td>https://s3-media2.fl.yelpcdn.com/bphoto/gjNCOc...</td>\n",
       "      <td>False</td>\n",
       "      <td>https://www.yelp.com/biz/mamma-mia-italian-bis...</td>\n",
       "      <td>257</td>\n",
       "      <td>[{'alias': 'italian', 'title': 'Italian'}, {'a...</td>\n",
       "      <td>4.0</td>\n",
       "      <td>{'latitude': 35.7355611601136, 'longitude': -7...</td>\n",
       "      <td>[delivery]</td>\n",
       "      <td>$$</td>\n",
       "      <td>{'address1': '708 Laura Duncan Rd', 'address2'...</td>\n",
       "      <td>+19193632228</td>\n",
       "      <td>(919) 363-2228</td>\n",
       "      <td>7138.531189</td>\n",
       "    </tr>\n",
       "    <tr>\n",
       "      <th>3</th>\n",
       "      <td>JG30eHEEBhri9TJHcr79tw</td>\n",
       "      <td>mezza-luna-pizzeria-apex</td>\n",
       "      <td>Mezza Luna Pizzeria</td>\n",
       "      <td>https://s3-media1.fl.yelpcdn.com/bphoto/s6gPZl...</td>\n",
       "      <td>False</td>\n",
       "      <td>https://www.yelp.com/biz/mezza-luna-pizzeria-a...</td>\n",
       "      <td>71</td>\n",
       "      <td>[{'alias': 'pizza', 'title': 'Pizza'}, {'alias...</td>\n",
       "      <td>4.5</td>\n",
       "      <td>{'latitude': 35.759033, 'longitude': -78.877387}</td>\n",
       "      <td>[delivery]</td>\n",
       "      <td>NaN</td>\n",
       "      <td>{'address1': '1763 W Williams St', 'address2':...</td>\n",
       "      <td>+19193036686</td>\n",
       "      <td>(919) 303-6686</td>\n",
       "      <td>6124.697491</td>\n",
       "    </tr>\n",
       "    <tr>\n",
       "      <th>4</th>\n",
       "      <td>kwYYV0NdzLwXo8lhWKUMNw</td>\n",
       "      <td>osteria-g-apex-2</td>\n",
       "      <td>Osteria G</td>\n",
       "      <td>https://s3-media2.fl.yelpcdn.com/bphoto/E8-aHI...</td>\n",
       "      <td>False</td>\n",
       "      <td>https://www.yelp.com/biz/osteria-g-apex-2?adju...</td>\n",
       "      <td>146</td>\n",
       "      <td>[{'alias': 'italian', 'title': 'Italian'}, {'a...</td>\n",
       "      <td>4.0</td>\n",
       "      <td>{'latitude': 35.66757, 'longitude': -78.79956}</td>\n",
       "      <td>[delivery]</td>\n",
       "      <td>NaN</td>\n",
       "      <td>{'address1': '5160 Sunset Lake Rd', 'address2'...</td>\n",
       "      <td>+19842297480</td>\n",
       "      <td>(984) 229-7480</td>\n",
       "      <td>11737.328646</td>\n",
       "    </tr>\n",
       "  </tbody>\n",
       "</table>\n",
       "</div>"
      ],
      "text/plain": [
       "                       id                                     alias  \\\n",
       "0  oawiDpF6mCdTML91aiR40w  tarantini-italian-restaurant-chapel-hill   \n",
       "1  LjvHGYAC113ZGUs0mue43w                   daniels-restaurant-apex   \n",
       "2  40W1_4-Bu-RlZWRRUbQt6w             mamma-mia-italian-bistro-apex   \n",
       "3  JG30eHEEBhri9TJHcr79tw                  mezza-luna-pizzeria-apex   \n",
       "4  kwYYV0NdzLwXo8lhWKUMNw                          osteria-g-apex-2   \n",
       "\n",
       "                           name  \\\n",
       "0  Tarantini Italian Restaurant   \n",
       "1           Daniel's Restaurant   \n",
       "2      Mamma Mia Italian Bistro   \n",
       "3           Mezza Luna Pizzeria   \n",
       "4                     Osteria G   \n",
       "\n",
       "                                           image_url  is_closed  \\\n",
       "0  https://s3-media3.fl.yelpcdn.com/bphoto/hIBw5n...      False   \n",
       "1  https://s3-media2.fl.yelpcdn.com/bphoto/fl9meJ...      False   \n",
       "2  https://s3-media2.fl.yelpcdn.com/bphoto/gjNCOc...      False   \n",
       "3  https://s3-media1.fl.yelpcdn.com/bphoto/s6gPZl...      False   \n",
       "4  https://s3-media2.fl.yelpcdn.com/bphoto/E8-aHI...      False   \n",
       "\n",
       "                                                 url  review_count  \\\n",
       "0  https://www.yelp.com/biz/tarantini-italian-res...           233   \n",
       "1  https://www.yelp.com/biz/daniels-restaurant-ap...           496   \n",
       "2  https://www.yelp.com/biz/mamma-mia-italian-bis...           257   \n",
       "3  https://www.yelp.com/biz/mezza-luna-pizzeria-a...            71   \n",
       "4  https://www.yelp.com/biz/osteria-g-apex-2?adju...           146   \n",
       "\n",
       "                                          categories  rating  \\\n",
       "0  [{'alias': 'italian', 'title': 'Italian'}, {'a...     4.5   \n",
       "1         [{'alias': 'italian', 'title': 'Italian'}]     4.0   \n",
       "2  [{'alias': 'italian', 'title': 'Italian'}, {'a...     4.0   \n",
       "3  [{'alias': 'pizza', 'title': 'Pizza'}, {'alias...     4.5   \n",
       "4  [{'alias': 'italian', 'title': 'Italian'}, {'a...     4.0   \n",
       "\n",
       "                                         coordinates  \\\n",
       "0   {'latitude': 35.854042, 'longitude': -79.024952}   \n",
       "1     {'latitude': 35.75246, 'longitude': -78.87659}   \n",
       "2  {'latitude': 35.7355611601136, 'longitude': -7...   \n",
       "3   {'latitude': 35.759033, 'longitude': -78.877387}   \n",
       "4     {'latitude': 35.66757, 'longitude': -78.79956}   \n",
       "\n",
       "                         transactions price  \\\n",
       "0  [restaurant_reservation, delivery]    $$   \n",
       "1                                  []    $$   \n",
       "2                          [delivery]    $$   \n",
       "3                          [delivery]   NaN   \n",
       "4                          [delivery]   NaN   \n",
       "\n",
       "                                            location         phone  \\\n",
       "0  {'address1': '50160 Governors Dr', 'address2':...  +19199424240   \n",
       "1  {'address1': '1430 W Williams St', 'address2':...  +19193031006   \n",
       "2  {'address1': '708 Laura Duncan Rd', 'address2'...  +19193632228   \n",
       "3  {'address1': '1763 W Williams St', 'address2':...  +19193036686   \n",
       "4  {'address1': '5160 Sunset Lake Rd', 'address2'...  +19842297480   \n",
       "\n",
       "    display_phone      distance  \n",
       "0  (919) 942-4240  18405.149641  \n",
       "1  (919) 303-1006   5585.960919  \n",
       "2  (919) 363-2228   7138.531189  \n",
       "3  (919) 303-6686   6124.697491  \n",
       "4  (984) 229-7480  11737.328646  "
      ]
     },
     "execution_count": 36,
     "metadata": {},
     "output_type": "execute_result"
    }
   ],
   "source": [
    "# converting the results from .json to a dataframe\n",
    "# search #1\n",
    "#pizza_df = pd.read_json(JSON_FILE)\n",
    "#pizza_df.head()\n",
    "italian_df = pd.read_json(JSON_FILE)\n",
    "italian_df.head()"
   ]
  },
  {
   "cell_type": "markdown",
   "id": "c3cd3ade",
   "metadata": {},
   "source": [
    "failed to check the df for duplicates"
   ]
  },
  {
   "cell_type": "code",
   "execution_count": 40,
   "id": "398a9e01",
   "metadata": {},
   "outputs": [],
   "source": [
    "# checking for duplicates\n",
    "# search #1\n",
    "#pizza_df.duplicated().sum()\n",
    "#apex_italian = pd.DataFrame(italian_df)\n",
    "#apex_italian.duplicated().sum()"
   ]
  },
  {
   "cell_type": "code",
   "execution_count": 41,
   "id": "75143e66",
   "metadata": {},
   "outputs": [],
   "source": [
    "# saving the final dataframe as a csv.gz\n",
    "# search #1\n",
    "#pizza_df.to_csv('Data/Whispering_Pines_Pizza.csv.gz', compression = 'gzip', index = False)\n",
    "italian_df.to_csv('Data/Apex_Italian.csv.gz', compression = 'gzip', index = False)"
   ]
  }
 ],
 "metadata": {
  "kernelspec": {
   "display_name": "Python (dojo-env)",
   "language": "python",
   "name": "dojo-env"
  },
  "language_info": {
   "codemirror_mode": {
    "name": "ipython",
    "version": 3
   },
   "file_extension": ".py",
   "mimetype": "text/x-python",
   "name": "python",
   "nbconvert_exporter": "python",
   "pygments_lexer": "ipython3",
   "version": "3.8.13"
  },
  "toc": {
   "base_numbering": 1,
   "nav_menu": {},
   "number_sections": true,
   "sideBar": true,
   "skip_h1_title": false,
   "title_cell": "Table of Contents",
   "title_sidebar": "Contents",
   "toc_cell": false,
   "toc_position": {},
   "toc_section_display": true,
   "toc_window_display": false
  }
 },
 "nbformat": 4,
 "nbformat_minor": 5
}
